{
 "cells": [
  {
   "cell_type": "markdown",
   "metadata": {},
   "source": [
    "> Performing the comparison of sentiment classification using a Word Embedding approach on a dummy text using brown corpus. "
   ]
  },
  {
   "cell_type": "code",
   "execution_count": 1,
   "metadata": {
    "colab": {
     "base_uri": "https://localhost:8080/",
     "height": 51
    },
    "id": "AXRonx3oV_UA",
    "outputId": "3edddab1-6961-424b-9953-0118685bfe82"
   },
   "outputs": [
    {
     "name": "stderr",
     "output_type": "stream",
     "text": [
      "[nltk_data] Downloading package brown to /Users/neeraj/nltk_data...\n",
      "[nltk_data]   Package brown is already up-to-date!\n"
     ]
    }
   ],
   "source": [
    "import gensim\n",
    "import nltk \n",
    "nltk.download('brown')\n",
    "from nltk.corpus import brown    \n",
    "import math"
   ]
  },
  {
   "cell_type": "code",
   "execution_count": 2,
   "metadata": {
    "id": "WY2rinZJWH2N"
   },
   "outputs": [],
   "source": [
    "model = gensim.models.Word2Vec(brown.sents())"
   ]
  },
  {
   "cell_type": "code",
   "execution_count": 3,
   "metadata": {
    "colab": {
     "base_uri": "https://localhost:8080/",
     "height": 122
    },
    "id": "-RlCWSxWXj2-",
    "outputId": "6cf1f4e0-e399-4e6d-8cae-b96357196132"
   },
   "outputs": [
    {
     "data": {
      "text/plain": [
       "[('Washington', 0.9638077616691589),\n",
       " ('Council', 0.9540385007858276),\n",
       " ('October', 0.9526122808456421)]"
      ]
     },
     "execution_count": 3,
     "metadata": {},
     "output_type": "execute_result"
    }
   ],
   "source": [
    "# Find the most closest values with their similarity score of word 'University' \n",
    "university_model = model.wv.most_similar('University', topn=3)\n",
    "university_model"
   ]
  },
  {
   "cell_type": "code",
   "execution_count": 4,
   "metadata": {
    "colab": {
     "base_uri": "https://localhost:8080/",
     "height": 34
    },
    "id": "gnm9AFUz7L0s",
    "outputId": "d788407d-fbf7-4cda-d1f9-9f20aa1e4c5a"
   },
   "outputs": [
    {
     "name": "stdout",
     "output_type": "stream",
     "text": [
      "Closest words to University is Washington , Council , October\n"
     ]
    }
   ],
   "source": [
    "print('Closest words to University is', university_model[0][0], ',', university_model[1][0], ',', university_model[2][0])"
   ]
  },
  {
   "cell_type": "code",
   "execution_count": 5,
   "metadata": {
    "colab": {
     "base_uri": "https://localhost:8080/",
     "height": 71
    },
    "id": "oA4_rrfwE97W",
    "outputId": "beab7594-9e88-4aeb-a199-75fb50dbc4f8"
   },
   "outputs": [],
   "source": [
    "# Calculaing the cosine similarity between the word 'University' and the top 3 closest words to it\n",
    "cosine_university = dict()\n",
    "for i, val  in enumerate(university_model):\n",
    "  cosine_university[val[0]] = model.wv.similarity('University', val[0])"
   ]
  },
  {
   "cell_type": "code",
   "execution_count": 6,
   "metadata": {
    "colab": {
     "base_uri": "https://localhost:8080/",
     "height": 68
    },
    "id": "_kcmZI5qE_OH",
    "outputId": "b2c01fca-a285-45a9-a554-f5f5d5198853"
   },
   "outputs": [
    {
     "name": "stdout",
     "output_type": "stream",
     "text": [
      "Cosine similarity between Univerity and  Washington is:  0.9638078\n",
      "Cosine similarity between Univerity and  Council is:  0.95403844\n",
      "Cosine similarity between Univerity and  October is:  0.9526122\n"
     ]
    }
   ],
   "source": [
    "for i, val in enumerate(cosine_university):\n",
    "  print('Cosine similarity between Univerity and ', val, 'is: ', cosine_university[val])"
   ]
  },
  {
   "cell_type": "code",
   "execution_count": 7,
   "metadata": {
    "colab": {
     "base_uri": "https://localhost:8080/",
     "height": 122
    },
    "id": "wvxK8cLRXnO2",
    "outputId": "2b8d8019-f561-4094-da43-5685711e83ed"
   },
   "outputs": [
    {
     "data": {
      "text/plain": [
       "[('catalogue', 0.9559360146522522),\n",
       " ('neighborhood', 0.9547332525253296),\n",
       " ('U.N.', 0.9464417099952698)]"
      ]
     },
     "execution_count": 7,
     "metadata": {},
     "output_type": "execute_result"
    }
   ],
   "source": [
    "# Find the most closest values with their similarity score of word 'Nation' \n",
    "nation_model = model.wv.most_similar('Nation', topn=3)\n",
    "nation_model"
   ]
  },
  {
   "cell_type": "code",
   "execution_count": 8,
   "metadata": {
    "id": "HslFjK5mY96v"
   },
   "outputs": [
    {
     "name": "stdout",
     "output_type": "stream",
     "text": [
      "Closest words to Nation is catalogue , neighborhood , U.N.\n"
     ]
    }
   ],
   "source": [
    "print('Closest words to Nation is', nation_model[0][0], ',', nation_model[1][0], ',', nation_model[2][0])"
   ]
  },
  {
   "cell_type": "code",
   "execution_count": 9,
   "metadata": {
    "colab": {
     "base_uri": "https://localhost:8080/",
     "height": 71
    },
    "id": "GeEd2e9KaElI",
    "outputId": "7260c8a2-8146-4b74-dc92-f699986e484e"
   },
   "outputs": [],
   "source": [
    "# Calculaing the cosine similarity between the word 'Nation' and the top 3 closest words to it\n",
    "cosine_nation = dict()\n",
    "for i, val  in enumerate(nation_model):\n",
    "  cosine_nation[val[0]] = model.wv.similarity('Nation', val[0])"
   ]
  },
  {
   "cell_type": "code",
   "execution_count": 10,
   "metadata": {
    "colab": {
     "base_uri": "https://localhost:8080/",
     "height": 68
    },
    "id": "HUJfxoJnCeSN",
    "outputId": "adb607f3-a29e-4066-cb5e-91c6c65ecb73"
   },
   "outputs": [
    {
     "name": "stdout",
     "output_type": "stream",
     "text": [
      "Cosine similarity between Nation and  catalogue is:  0.955936\n",
      "Cosine similarity between Nation and  neighborhood is:  0.9547334\n",
      "Cosine similarity between Nation and  U.N. is:  0.9464417\n"
     ]
    }
   ],
   "source": [
    "for i, val in enumerate(cosine_nation):\n",
    "  print('Cosine similarity between Nation and ', val, 'is: ', cosine_nation[val])"
   ]
  },
  {
   "cell_type": "code",
   "execution_count": 13,
   "metadata": {
    "colab": {
     "base_uri": "https://localhost:8080/",
     "height": 34
    },
    "id": "nwjsJrgFaFnR",
    "outputId": "45df4a09-6b57-42ab-af59-4e2806b05fac"
   },
   "outputs": [],
   "source": [
    "# Finding the sentiment of the sentence \"There was no suspense at all\"\n",
    "positive_sentence = \"This is a great movie with lots of suspense\"\n",
    "negative_sentence = \"The movie was predictable and quite boring\"\n",
    "positive_words = positive_sentence.split(' ')\n",
    "negative_words = negative_sentence.split(' ')"
   ]
  },
  {
   "cell_type": "code",
   "execution_count": 14,
   "metadata": {
    "colab": {
     "base_uri": "https://localhost:8080/",
     "height": 340
    },
    "id": "xt2wjsBAGGOJ",
    "outputId": "9903a0f8-7975-4d94-8b57-b15269ed7614"
   },
   "outputs": [
    {
     "data": {
      "text/plain": [
       "-0.0016186733395766656"
      ]
     },
     "execution_count": 14,
     "metadata": {},
     "output_type": "execute_result"
    }
   ],
   "source": [
    "# Calculating the positive average of the embeddings\n",
    "sum_positive = 0 \n",
    "for i in positive_words:\n",
    "  temp_positives = sum(model.wv[i]) / len(model.wv[i])\n",
    "  sum_positive += temp_positives\n",
    "average_positive = sum_positive / len(positive_words)\n",
    "average_positive"
   ]
  },
  {
   "cell_type": "code",
   "execution_count": 15,
   "metadata": {
    "colab": {
     "base_uri": "https://localhost:8080/",
     "height": 153
    },
    "id": "K94owvsFIDft",
    "outputId": "d8182df1-df9c-4486-d7d9-2ae044b607fc"
   },
   "outputs": [
    {
     "data": {
      "text/plain": [
       "0.042659138633337416"
      ]
     },
     "execution_count": 15,
     "metadata": {},
     "output_type": "execute_result"
    }
   ],
   "source": [
    "# Calculating the negative average of the embeddings \n",
    "sum_negative = 0 \n",
    "for i in negative_words:\n",
    "  temp_negatives = sum(model.wv[i]) / len(model.wv[i])\n",
    "  sum_negative += temp_negatives\n",
    "average_negative = sum_negative / len(negative_words)\n",
    "average_negative"
   ]
  },
  {
   "cell_type": "code",
   "execution_count": 16,
   "metadata": {
    "colab": {
     "base_uri": "https://localhost:8080/",
     "height": 238
    },
    "id": "yt3e6QKHe24d",
    "outputId": "2811ea2f-c4c9-4899-9c1f-f0701e35d4f1"
   },
   "outputs": [
    {
     "data": {
      "text/plain": [
       "0.028907550330817083"
      ]
     },
     "execution_count": 16,
     "metadata": {},
     "output_type": "execute_result"
    }
   ],
   "source": [
    "# Calulating the average of the sentence \"There was no suspense at all\"\n",
    "new_sentence = \"There was no suspense at all\"\n",
    "new_words = new_sentence.split(' ')\n",
    "sum_new = 0 \n",
    "for i in new_words:\n",
    "  temp_new = sum(model.wv[i]) / len(model.wv[i])\n",
    "  sum_new += temp_new\n",
    "average_new = sum_new / len(new_words)\n",
    "average_new"
   ]
  },
  {
   "cell_type": "code",
   "execution_count": 19,
   "metadata": {
    "colab": {
     "base_uri": "https://localhost:8080/",
     "height": 34
    },
    "id": "Igf_EpSxjfNV",
    "outputId": "d451f1e3-3cef-47f6-efb6-7695ef7f9027"
   },
   "outputs": [
    {
     "data": {
      "text/plain": [
       "(0.03052622367039375, 0.013751588302520334)"
      ]
     },
     "execution_count": 19,
     "metadata": {},
     "output_type": "execute_result"
    }
   ],
   "source": [
    "# Calculating the distance between average_new and average_positive \n",
    "dist_new_pos = math.sqrt((average_new - average_positive) ** 2)\n",
    "# Calculating the distance between average_new and average_negative\n",
    "dist_new_neg = math.sqrt((average_new - average_negative) ** 2)\n",
    "dist_new_pos, dist_new_neg"
   ]
  },
  {
   "cell_type": "code",
   "execution_count": 18,
   "metadata": {
    "colab": {
     "base_uri": "https://localhost:8080/",
     "height": 34
    },
    "id": "I6YWeZcikVAL",
    "outputId": "ea93fdda-5690-4458-d504-8c43d329605c"
   },
   "outputs": [
    {
     "name": "stdout",
     "output_type": "stream",
     "text": [
      "Final sentiment of the sentence is:  Negative\n"
     ]
    }
   ],
   "source": [
    "final_sentiment = lambda x: x == \"Positive\" if x == dist_new_pos else \"Negative\"\n",
    "print('Final sentiment of the sentence is: ', final_sentiment(min(dist_new_pos, dist_new_neg)))"
   ]
  }
 ],
 "metadata": {
  "colab": {
   "collapsed_sections": [],
   "name": "ques_3_iml.ipynb",
   "provenance": []
  },
  "kernelspec": {
   "display_name": "Python 3",
   "language": "python",
   "name": "python3"
  },
  "language_info": {
   "codemirror_mode": {
    "name": "ipython",
    "version": 3
   },
   "file_extension": ".py",
   "mimetype": "text/x-python",
   "name": "python",
   "nbconvert_exporter": "python",
   "pygments_lexer": "ipython3",
   "version": "3.7.6"
  }
 },
 "nbformat": 4,
 "nbformat_minor": 1
}
